{
 "cells": [
  {
   "cell_type": "code",
   "execution_count": 13,
   "id": "83dcf4da",
   "metadata": {},
   "outputs": [],
   "source": [
    "import pandas as pd\n",
    "from sqlalchemy import create_engine"
   ]
  },
  {
   "cell_type": "markdown",
   "id": "d3dd2680",
   "metadata": {},
   "source": [
    "## Extracting all the csv files as Pandas Dataframes"
   ]
  },
  {
   "cell_type": "code",
   "execution_count": 14,
   "id": "77592064",
   "metadata": {},
   "outputs": [],
   "source": [
    "def extract_data():\n",
    "    \"\"\"Extract data from CSV files.\"\"\"\n",
    "    steps_df = pd.read_csv('downloads/Data/steps.csv')\n",
    "    exercises_df = pd.read_csv('downloads/Data/exercises.csv')\n",
    "    patients_df = pd.read_csv('downloads/Data/patients.csv')\n",
    "    return steps_df, exercises_df, patients_df\n"
   ]
  },
  {
   "cell_type": "code",
   "execution_count": 15,
   "id": "aa8dfd84",
   "metadata": {},
   "outputs": [
    {
     "data": {
      "text/html": [
       "<div>\n",
       "<style scoped>\n",
       "    .dataframe tbody tr th:only-of-type {\n",
       "        vertical-align: middle;\n",
       "    }\n",
       "\n",
       "    .dataframe tbody tr th {\n",
       "        vertical-align: top;\n",
       "    }\n",
       "\n",
       "    .dataframe thead th {\n",
       "        text-align: right;\n",
       "    }\n",
       "</style>\n",
       "<table border=\"1\" class=\"dataframe\">\n",
       "  <thead>\n",
       "    <tr style=\"text-align: right;\">\n",
       "      <th></th>\n",
       "      <th>ID</th>\n",
       "      <th>EXTERNAL_ID</th>\n",
       "      <th>STEPS</th>\n",
       "      <th>SUBMISSION_TIME</th>\n",
       "      <th>UPDATED_AT</th>\n",
       "    </tr>\n",
       "  </thead>\n",
       "  <tbody>\n",
       "    <tr>\n",
       "      <th>0</th>\n",
       "      <td>7075798</td>\n",
       "      <td>2227</td>\n",
       "      <td>163</td>\n",
       "      <td>2024-02-29T01:00:00.000+0100</td>\n",
       "      <td>2024-03-01T18:00:01.005+0100</td>\n",
       "    </tr>\n",
       "    <tr>\n",
       "      <th>1</th>\n",
       "      <td>7026711</td>\n",
       "      <td>2227</td>\n",
       "      <td>104</td>\n",
       "      <td>2024-02-23T01:00:00.000+0100</td>\n",
       "      <td>2024-02-23T06:00:01.013+0100</td>\n",
       "    </tr>\n",
       "    <tr>\n",
       "      <th>2</th>\n",
       "      <td>7033100</td>\n",
       "      <td>2227</td>\n",
       "      <td>4250</td>\n",
       "      <td>2024-02-23T01:00:00.000+0100</td>\n",
       "      <td>2024-02-24T06:00:01.197+0100</td>\n",
       "    </tr>\n",
       "    <tr>\n",
       "      <th>3</th>\n",
       "      <td>7038880</td>\n",
       "      <td>2227</td>\n",
       "      <td>36047</td>\n",
       "      <td>2024-02-24T01:00:00.000+0100</td>\n",
       "      <td>2024-02-25T04:30:01.313+0100</td>\n",
       "    </tr>\n",
       "    <tr>\n",
       "      <th>4</th>\n",
       "      <td>7035008</td>\n",
       "      <td>2227</td>\n",
       "      <td>38</td>\n",
       "      <td>2024-02-24T01:00:00.000+0100</td>\n",
       "      <td>2024-02-24T16:00:01.068+0100</td>\n",
       "    </tr>\n",
       "  </tbody>\n",
       "</table>\n",
       "</div>"
      ],
      "text/plain": [
       "        ID  EXTERNAL_ID  STEPS               SUBMISSION_TIME  \\\n",
       "0  7075798         2227    163  2024-02-29T01:00:00.000+0100   \n",
       "1  7026711         2227    104  2024-02-23T01:00:00.000+0100   \n",
       "2  7033100         2227   4250  2024-02-23T01:00:00.000+0100   \n",
       "3  7038880         2227  36047  2024-02-24T01:00:00.000+0100   \n",
       "4  7035008         2227     38  2024-02-24T01:00:00.000+0100   \n",
       "\n",
       "                     UPDATED_AT  \n",
       "0  2024-03-01T18:00:01.005+0100  \n",
       "1  2024-02-23T06:00:01.013+0100  \n",
       "2  2024-02-24T06:00:01.197+0100  \n",
       "3  2024-02-25T04:30:01.313+0100  \n",
       "4  2024-02-24T16:00:01.068+0100  "
      ]
     },
     "execution_count": 15,
     "metadata": {},
     "output_type": "execute_result"
    }
   ],
   "source": [
    "steps_df, exercises_df, patients_df = extract_data()\n",
    "steps_df.head()"
   ]
  },
  {
   "cell_type": "code",
   "execution_count": 16,
   "id": "e394b273",
   "metadata": {},
   "outputs": [
    {
     "data": {
      "text/html": [
       "<div>\n",
       "<style scoped>\n",
       "    .dataframe tbody tr th:only-of-type {\n",
       "        vertical-align: middle;\n",
       "    }\n",
       "\n",
       "    .dataframe tbody tr th {\n",
       "        vertical-align: top;\n",
       "    }\n",
       "\n",
       "    .dataframe thead th {\n",
       "        text-align: right;\n",
       "    }\n",
       "</style>\n",
       "<table border=\"1\" class=\"dataframe\">\n",
       "  <thead>\n",
       "    <tr style=\"text-align: right;\">\n",
       "      <th></th>\n",
       "      <th>ID</th>\n",
       "      <th>EXTERNAL_ID</th>\n",
       "      <th>MINUTES</th>\n",
       "      <th>COMPLETED_AT</th>\n",
       "      <th>UPDATED_AT</th>\n",
       "    </tr>\n",
       "  </thead>\n",
       "  <tbody>\n",
       "    <tr>\n",
       "      <th>0</th>\n",
       "      <td>1760588</td>\n",
       "      <td>2227</td>\n",
       "      <td>1</td>\n",
       "      <td>2019-11-26T13:13:43.825+0100</td>\n",
       "      <td>2023-12-02T16:08:16.809+0100</td>\n",
       "    </tr>\n",
       "    <tr>\n",
       "      <th>1</th>\n",
       "      <td>25820128</td>\n",
       "      <td>2227</td>\n",
       "      <td>20</td>\n",
       "      <td>2023-07-21T16:27:15.000+0200</td>\n",
       "      <td>2024-01-03T15:29:01.871+0100</td>\n",
       "    </tr>\n",
       "    <tr>\n",
       "      <th>2</th>\n",
       "      <td>28660798</td>\n",
       "      <td>2227</td>\n",
       "      <td>2</td>\n",
       "      <td>2023-09-29T09:19:10.345+0200</td>\n",
       "      <td>2023-12-02T16:08:16.809+0100</td>\n",
       "    </tr>\n",
       "    <tr>\n",
       "      <th>3</th>\n",
       "      <td>12678534</td>\n",
       "      <td>2227</td>\n",
       "      <td>3</td>\n",
       "      <td>2022-06-09T14:32:54.000+0200</td>\n",
       "      <td>2023-12-02T16:08:16.809+0100</td>\n",
       "    </tr>\n",
       "    <tr>\n",
       "      <th>4</th>\n",
       "      <td>2383166</td>\n",
       "      <td>2227</td>\n",
       "      <td>1</td>\n",
       "      <td>2020-04-22T17:00:37.181+0200</td>\n",
       "      <td>2023-12-02T14:28:01.591+0100</td>\n",
       "    </tr>\n",
       "  </tbody>\n",
       "</table>\n",
       "</div>"
      ],
      "text/plain": [
       "         ID  EXTERNAL_ID  MINUTES                  COMPLETED_AT  \\\n",
       "0   1760588         2227        1  2019-11-26T13:13:43.825+0100   \n",
       "1  25820128         2227       20  2023-07-21T16:27:15.000+0200   \n",
       "2  28660798         2227        2  2023-09-29T09:19:10.345+0200   \n",
       "3  12678534         2227        3  2022-06-09T14:32:54.000+0200   \n",
       "4   2383166         2227        1  2020-04-22T17:00:37.181+0200   \n",
       "\n",
       "                     UPDATED_AT  \n",
       "0  2023-12-02T16:08:16.809+0100  \n",
       "1  2024-01-03T15:29:01.871+0100  \n",
       "2  2023-12-02T16:08:16.809+0100  \n",
       "3  2023-12-02T16:08:16.809+0100  \n",
       "4  2023-12-02T14:28:01.591+0100  "
      ]
     },
     "execution_count": 16,
     "metadata": {},
     "output_type": "execute_result"
    }
   ],
   "source": [
    "exercises_df.head()"
   ]
  },
  {
   "cell_type": "code",
   "execution_count": 17,
   "id": "934fc8ba",
   "metadata": {},
   "outputs": [
    {
     "data": {
      "text/html": [
       "<div>\n",
       "<style scoped>\n",
       "    .dataframe tbody tr th:only-of-type {\n",
       "        vertical-align: middle;\n",
       "    }\n",
       "\n",
       "    .dataframe tbody tr th {\n",
       "        vertical-align: top;\n",
       "    }\n",
       "\n",
       "    .dataframe thead th {\n",
       "        text-align: right;\n",
       "    }\n",
       "</style>\n",
       "<table border=\"1\" class=\"dataframe\">\n",
       "  <thead>\n",
       "    <tr style=\"text-align: right;\">\n",
       "      <th></th>\n",
       "      <th>Unnamed: 0</th>\n",
       "      <th>PATIENT_ID</th>\n",
       "      <th>first_name</th>\n",
       "      <th>last_name</th>\n",
       "      <th>country</th>\n",
       "    </tr>\n",
       "  </thead>\n",
       "  <tbody>\n",
       "    <tr>\n",
       "      <th>0</th>\n",
       "      <td>0</td>\n",
       "      <td>2227</td>\n",
       "      <td>Emily</td>\n",
       "      <td>Castaneda</td>\n",
       "      <td>Ethiopia</td>\n",
       "    </tr>\n",
       "    <tr>\n",
       "      <th>1</th>\n",
       "      <td>1</td>\n",
       "      <td>5744</td>\n",
       "      <td>Logan</td>\n",
       "      <td>Coleman</td>\n",
       "      <td>Romania</td>\n",
       "    </tr>\n",
       "    <tr>\n",
       "      <th>2</th>\n",
       "      <td>2</td>\n",
       "      <td>6068</td>\n",
       "      <td>David</td>\n",
       "      <td>Dickerson</td>\n",
       "      <td>Netherlands Antilles</td>\n",
       "    </tr>\n",
       "    <tr>\n",
       "      <th>3</th>\n",
       "      <td>3</td>\n",
       "      <td>7789</td>\n",
       "      <td>Lance</td>\n",
       "      <td>Miranda</td>\n",
       "      <td>Yemen</td>\n",
       "    </tr>\n",
       "    <tr>\n",
       "      <th>4</th>\n",
       "      <td>4</td>\n",
       "      <td>8090</td>\n",
       "      <td>Heather</td>\n",
       "      <td>Moore</td>\n",
       "      <td>Niger</td>\n",
       "    </tr>\n",
       "  </tbody>\n",
       "</table>\n",
       "</div>"
      ],
      "text/plain": [
       "   Unnamed: 0  PATIENT_ID first_name  last_name               country\n",
       "0           0        2227      Emily  Castaneda              Ethiopia\n",
       "1           1        5744      Logan    Coleman               Romania\n",
       "2           2        6068      David  Dickerson  Netherlands Antilles\n",
       "3           3        7789      Lance    Miranda                 Yemen\n",
       "4           4        8090    Heather      Moore                 Niger"
      ]
     },
     "execution_count": 17,
     "metadata": {},
     "output_type": "execute_result"
    }
   ],
   "source": [
    "patients_df.head()"
   ]
  },
  {
   "cell_type": "markdown",
   "id": "3c8694fe",
   "metadata": {},
   "source": [
    "## Get a brief summary of all the dataframes"
   ]
  },
  {
   "cell_type": "code",
   "execution_count": 18,
   "id": "973fbe17",
   "metadata": {},
   "outputs": [
    {
     "name": "stdout",
     "output_type": "stream",
     "text": [
      "<class 'pandas.core.frame.DataFrame'>\n",
      "RangeIndex: 11909 entries, 0 to 11908\n",
      "Data columns (total 5 columns):\n",
      " #   Column           Non-Null Count  Dtype \n",
      "---  ------           --------------  ----- \n",
      " 0   ID               11909 non-null  int64 \n",
      " 1   EXTERNAL_ID      11909 non-null  int64 \n",
      " 2   STEPS            11909 non-null  int64 \n",
      " 3   SUBMISSION_TIME  11909 non-null  object\n",
      " 4   UPDATED_AT       11909 non-null  object\n",
      "dtypes: int64(3), object(2)\n",
      "memory usage: 465.3+ KB\n"
     ]
    }
   ],
   "source": [
    "steps_df.info()"
   ]
  },
  {
   "cell_type": "code",
   "execution_count": 19,
   "id": "f68d3398",
   "metadata": {},
   "outputs": [
    {
     "name": "stdout",
     "output_type": "stream",
     "text": [
      "<class 'pandas.core.frame.DataFrame'>\n",
      "RangeIndex: 65427 entries, 0 to 65426\n",
      "Data columns (total 5 columns):\n",
      " #   Column        Non-Null Count  Dtype \n",
      "---  ------        --------------  ----- \n",
      " 0   ID            65427 non-null  int64 \n",
      " 1   EXTERNAL_ID   65427 non-null  int64 \n",
      " 2   MINUTES       65427 non-null  int64 \n",
      " 3   COMPLETED_AT  62596 non-null  object\n",
      " 4   UPDATED_AT    65427 non-null  object\n",
      "dtypes: int64(3), object(2)\n",
      "memory usage: 2.5+ MB\n"
     ]
    }
   ],
   "source": [
    "exercises_df.info()"
   ]
  },
  {
   "cell_type": "code",
   "execution_count": 20,
   "id": "88a622ab",
   "metadata": {},
   "outputs": [
    {
     "name": "stdout",
     "output_type": "stream",
     "text": [
      "<class 'pandas.core.frame.DataFrame'>\n",
      "RangeIndex: 100 entries, 0 to 99\n",
      "Data columns (total 5 columns):\n",
      " #   Column      Non-Null Count  Dtype \n",
      "---  ------      --------------  ----- \n",
      " 0   Unnamed: 0  100 non-null    int64 \n",
      " 1   PATIENT_ID  100 non-null    int64 \n",
      " 2   first_name  100 non-null    object\n",
      " 3   last_name   100 non-null    object\n",
      " 4   country     100 non-null    object\n",
      "dtypes: int64(2), object(3)\n",
      "memory usage: 4.0+ KB\n"
     ]
    }
   ],
   "source": [
    "patients_df.info()"
   ]
  },
  {
   "cell_type": "markdown",
   "id": "e846b564",
   "metadata": {},
   "source": [
    "## Data Transformation to calculate the total minutes of wach patient"
   ]
  },
  {
   "cell_type": "code",
   "execution_count": 21,
   "id": "7044c5af",
   "metadata": {},
   "outputs": [],
   "source": [
    "def transform_data(steps_df, exercises_df, patients_df):\n",
    "    \"\"\"Transform data to calculate total minutes for each patient.\"\"\"\n",
    "    # Create SQLAlchemy engine\n",
    "    engine = create_engine('sqlite:///:memory:')\n",
    "\n",
    "    # Load DataFrames into SQLite database\n",
    "    steps_df.to_sql('steps', con=engine, if_exists='replace', index=False)\n",
    "    exercises_df.to_sql('exercises', con=engine, if_exists='replace', index=False)\n",
    "    patients_df.to_sql('patients', con=engine, if_exists='replace', index=False)\n",
    "\n",
    "    # Transform: Calculate total minutes for each patient using SQL\n",
    "    query = \"\"\"\n",
    "            SELECT p.Patient_id,\n",
    "                   p.First_name,\n",
    "                   p.Last_name,\n",
    "                   p.Country,\n",
    "                   COALESCE(SUM(s.Steps) * 0.002, 0) + COALESCE(SUM(e.Minutes), 0) AS total_minutes\n",
    "            FROM patients p\n",
    "            LEFT JOIN (\n",
    "                SELECT External_id, SUM(Steps) AS Steps\n",
    "                FROM steps\n",
    "                GROUP BY External_id\n",
    "            ) s ON p.Patient_id = s.External_id\n",
    "            LEFT JOIN (\n",
    "                SELECT External_id, SUM(Minutes) AS Minutes\n",
    "                FROM exercises\n",
    "                GROUP BY External_id\n",
    "            ) e ON p.Patient_id = e.External_id\n",
    "            GROUP BY p.Patient_id\n",
    "            ORDER BY total_minutes DESC;\n",
    "            \"\"\"\n",
    "    result = engine.execute(query)\n",
    "    result_df = pd.DataFrame(result, columns=['patient_id', 'first_name', 'last_name', 'country', 'total_minutes'])\n",
    "    return result_df\n"
   ]
  },
  {
   "cell_type": "code",
   "execution_count": 22,
   "id": "70e1b2fb",
   "metadata": {},
   "outputs": [
    {
     "data": {
      "text/html": [
       "<div>\n",
       "<style scoped>\n",
       "    .dataframe tbody tr th:only-of-type {\n",
       "        vertical-align: middle;\n",
       "    }\n",
       "\n",
       "    .dataframe tbody tr th {\n",
       "        vertical-align: top;\n",
       "    }\n",
       "\n",
       "    .dataframe thead th {\n",
       "        text-align: right;\n",
       "    }\n",
       "</style>\n",
       "<table border=\"1\" class=\"dataframe\">\n",
       "  <thead>\n",
       "    <tr style=\"text-align: right;\">\n",
       "      <th></th>\n",
       "      <th>patient_id</th>\n",
       "      <th>first_name</th>\n",
       "      <th>last_name</th>\n",
       "      <th>country</th>\n",
       "      <th>total_minutes</th>\n",
       "    </tr>\n",
       "  </thead>\n",
       "  <tbody>\n",
       "    <tr>\n",
       "      <th>0</th>\n",
       "      <td>356134</td>\n",
       "      <td>Austin</td>\n",
       "      <td>Ellis</td>\n",
       "      <td>Germany</td>\n",
       "      <td>110592.540</td>\n",
       "    </tr>\n",
       "    <tr>\n",
       "      <th>1</th>\n",
       "      <td>269286</td>\n",
       "      <td>Morgan</td>\n",
       "      <td>Kirby</td>\n",
       "      <td>Antarctica (the territory South of 60 deg S)</td>\n",
       "      <td>45075.418</td>\n",
       "    </tr>\n",
       "    <tr>\n",
       "      <th>2</th>\n",
       "      <td>298048</td>\n",
       "      <td>Mark</td>\n",
       "      <td>Anderson</td>\n",
       "      <td>Aruba</td>\n",
       "      <td>25404.384</td>\n",
       "    </tr>\n",
       "    <tr>\n",
       "      <th>3</th>\n",
       "      <td>11063</td>\n",
       "      <td>Lisa</td>\n",
       "      <td>Cruz</td>\n",
       "      <td>Papua New Guinea</td>\n",
       "      <td>24609.974</td>\n",
       "    </tr>\n",
       "    <tr>\n",
       "      <th>4</th>\n",
       "      <td>434057</td>\n",
       "      <td>Willie</td>\n",
       "      <td>Nolan</td>\n",
       "      <td>Saint Vincent and the Grenadines</td>\n",
       "      <td>21775.266</td>\n",
       "    </tr>\n",
       "  </tbody>\n",
       "</table>\n",
       "</div>"
      ],
      "text/plain": [
       "   patient_id first_name last_name  \\\n",
       "0      356134     Austin     Ellis   \n",
       "1      269286     Morgan     Kirby   \n",
       "2      298048       Mark  Anderson   \n",
       "3       11063       Lisa      Cruz   \n",
       "4      434057     Willie     Nolan   \n",
       "\n",
       "                                        country  total_minutes  \n",
       "0                                       Germany     110592.540  \n",
       "1  Antarctica (the territory South of 60 deg S)      45075.418  \n",
       "2                                         Aruba      25404.384  \n",
       "3                              Papua New Guinea      24609.974  \n",
       "4              Saint Vincent and the Grenadines      21775.266  "
      ]
     },
     "execution_count": 22,
     "metadata": {},
     "output_type": "execute_result"
    }
   ],
   "source": [
    "result_df = transform_data(steps_df, exercises_df, patients_df)\n",
    "result_df.head()"
   ]
  },
  {
   "cell_type": "code",
   "execution_count": 23,
   "id": "38f455cb",
   "metadata": {},
   "outputs": [
    {
     "name": "stdout",
     "output_type": "stream",
     "text": [
      "<class 'pandas.core.frame.DataFrame'>\n",
      "RangeIndex: 100 entries, 0 to 99\n",
      "Data columns (total 5 columns):\n",
      " #   Column         Non-Null Count  Dtype  \n",
      "---  ------         --------------  -----  \n",
      " 0   patient_id     100 non-null    int64  \n",
      " 1   first_name     100 non-null    object \n",
      " 2   last_name      100 non-null    object \n",
      " 3   country        100 non-null    object \n",
      " 4   total_minutes  100 non-null    float64\n",
      "dtypes: float64(1), int64(1), object(3)\n",
      "memory usage: 4.0+ KB\n"
     ]
    }
   ],
   "source": [
    "result_df.info()"
   ]
  },
  {
   "cell_type": "code",
   "execution_count": 24,
   "id": "f047ed2a",
   "metadata": {},
   "outputs": [],
   "source": [
    "def load_data(result_df):\n",
    "    \"\"\"Load transformed data to a CSV file.\"\"\"\n",
    "    result_df.to_csv('downloads/output/highest_minutes_patients.csv', index=False)\n",
    "    print(\"Data saved to downloads/output/highest_minutes_patients.csv\")"
   ]
  },
  {
   "cell_type": "markdown",
   "id": "905b7cca",
   "metadata": {},
   "source": [
    "## ETL Process"
   ]
  },
  {
   "cell_type": "code",
   "execution_count": 25,
   "id": "6f7e10ef",
   "metadata": {},
   "outputs": [
    {
     "name": "stdout",
     "output_type": "stream",
     "text": [
      "Data saved to downloads/output/highest_minutes_patients.csv\n"
     ]
    }
   ],
   "source": [
    "def main():\n",
    "    \"\"\"Main function to execute the ELT pipeline.\"\"\"\n",
    "    # Extract data\n",
    "    steps_df, exercises_df, patients_df = extract_data()\n",
    "    \n",
    "    # Transform data\n",
    "    result_df = transform_data(steps_df, exercises_df, patients_df)\n",
    "    \n",
    "    # Load data\n",
    "    load_data(result_df)\n",
    "\n",
    "if __name__ == \"__main__\":\n",
    "    main()"
   ]
  }
 ],
 "metadata": {
  "kernelspec": {
   "display_name": "Python 3 (ipykernel)",
   "language": "python",
   "name": "python3"
  },
  "language_info": {
   "codemirror_mode": {
    "name": "ipython",
    "version": 3
   },
   "file_extension": ".py",
   "mimetype": "text/x-python",
   "name": "python",
   "nbconvert_exporter": "python",
   "pygments_lexer": "ipython3",
   "version": "3.11.4"
  }
 },
 "nbformat": 4,
 "nbformat_minor": 5
}
